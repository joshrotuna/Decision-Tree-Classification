{
  "nbformat": 4,
  "nbformat_minor": 0,
  "metadata": {
    "colab": {
      "name": "Joshua_Rotuna_CA03_Decision_Trees.ipynb",
      "provenance": [],
      "collapsed_sections": []
    },
    "kernelspec": {
      "name": "python3",
      "display_name": "Python 3"
    }
  },
  "cells": [
    {
      "cell_type": "code",
      "metadata": {
        "id": "470Y3av309me"
      },
      "source": [
        "#Importing modules-packages\n",
        "import numpy as np\n",
        "import pandas as pd\n",
        "import matplotlib.pyplot as plt\n",
        "import os\n",
        "from collections import Counter\n",
        "from sklearn.naive_bayes import GaussianNB\n",
        "from sklearn.metrics import accuracy_score\n",
        "from sklearn.metrics import recall_score\n",
        "from sklearn.metrics import precision_score\n",
        "from sklearn.tree import DecisionTreeClassifier\n",
        "from sklearn.externals.six import StringIO\n",
        "from sklearn.metrics import confusion_matrix\n",
        "from sklearn.tree import export_graphviz\n",
        "from IPython.display import Image\n",
        "from google.colab import drive\n"
      ],
      "execution_count": 180,
      "outputs": []
    },
    {
      "cell_type": "code",
      "metadata": {
        "colab": {
          "base_uri": "https://localhost:8080/"
        },
        "id": "DK8AhOa11Olj",
        "outputId": "6468ac94-6f44-4d2c-af2b-f9cfcce15df8"
      },
      "source": [
        "# Mounting Google Drive\n",
        "drive.mount(\"/content/drive\")"
      ],
      "execution_count": 181,
      "outputs": [
        {
          "output_type": "stream",
          "text": [
            "Drive already mounted at /content/drive; to attempt to forcibly remount, call drive.mount(\"/content/drive\", force_remount=True).\n"
          ],
          "name": "stdout"
        }
      ]
    },
    {
      "cell_type": "code",
      "metadata": {
        "id": "ulugq1QP1WAs"
      },
      "source": [
        "# Reading in the data set\n",
        "cens = '/content/drive/My Drive/MSBA_Colab_2020/ML_Algorithms/CA03/census_data.csv'\n",
        "cens = pd.read_csv(cens)\n"
      ],
      "execution_count": 182,
      "outputs": []
    },
    {
      "cell_type": "markdown",
      "metadata": {
        "id": "EpnerqCq2ab3"
      },
      "source": [
        "\n",
        "\n",
        "# 2. Data Quality Analysis\n"
      ]
    },
    {
      "cell_type": "code",
      "metadata": {
        "colab": {
          "base_uri": "https://localhost:8080/",
          "height": 204
        },
        "id": "KspzFjbe2fpI",
        "outputId": "cf16d6ea-e6cf-435b-8399-b1915acf43ff"
      },
      "source": [
        "# Examining first five rows\n",
        "cens.head()"
      ],
      "execution_count": 184,
      "outputs": [
        {
          "output_type": "execute_result",
          "data": {
            "text/html": [
              "<div>\n",
              "<style scoped>\n",
              "    .dataframe tbody tr th:only-of-type {\n",
              "        vertical-align: middle;\n",
              "    }\n",
              "\n",
              "    .dataframe tbody tr th {\n",
              "        vertical-align: top;\n",
              "    }\n",
              "\n",
              "    .dataframe thead th {\n",
              "        text-align: right;\n",
              "    }\n",
              "</style>\n",
              "<table border=\"1\" class=\"dataframe\">\n",
              "  <thead>\n",
              "    <tr style=\"text-align: right;\">\n",
              "      <th></th>\n",
              "      <th>hours_per_week_bin</th>\n",
              "      <th>occupation_bin</th>\n",
              "      <th>msr_bin</th>\n",
              "      <th>capital_gl_bin</th>\n",
              "      <th>race_sex_bin</th>\n",
              "      <th>education_num_bin</th>\n",
              "      <th>education_bin</th>\n",
              "      <th>workclass_bin</th>\n",
              "      <th>age_bin</th>\n",
              "      <th>flag</th>\n",
              "      <th>y</th>\n",
              "    </tr>\n",
              "  </thead>\n",
              "  <tbody>\n",
              "    <tr>\n",
              "      <th>0</th>\n",
              "      <td>b. 31-40</td>\n",
              "      <td>b. Mid - Low</td>\n",
              "      <td>b. Mid</td>\n",
              "      <td>c. &gt; 0</td>\n",
              "      <td>c. High</td>\n",
              "      <td>c. 13</td>\n",
              "      <td>c. Bachelors</td>\n",
              "      <td>b. income</td>\n",
              "      <td>d. 36-40 &amp; 56-60</td>\n",
              "      <td>train</td>\n",
              "      <td>0</td>\n",
              "    </tr>\n",
              "    <tr>\n",
              "      <th>1</th>\n",
              "      <td>a. 0-30</td>\n",
              "      <td>e. High</td>\n",
              "      <td>c. High</td>\n",
              "      <td>a. = 0</td>\n",
              "      <td>c. High</td>\n",
              "      <td>c. 13</td>\n",
              "      <td>c. Bachelors</td>\n",
              "      <td>b. income</td>\n",
              "      <td>e. 40-55</td>\n",
              "      <td>train</td>\n",
              "      <td>0</td>\n",
              "    </tr>\n",
              "    <tr>\n",
              "      <th>2</th>\n",
              "      <td>b. 31-40</td>\n",
              "      <td>a. Low</td>\n",
              "      <td>b. Mid</td>\n",
              "      <td>a. = 0</td>\n",
              "      <td>c. High</td>\n",
              "      <td>b. 9-12</td>\n",
              "      <td>b. Mid</td>\n",
              "      <td>b. income</td>\n",
              "      <td>d. 36-40 &amp; 56-60</td>\n",
              "      <td>train</td>\n",
              "      <td>0</td>\n",
              "    </tr>\n",
              "    <tr>\n",
              "      <th>3</th>\n",
              "      <td>b. 31-40</td>\n",
              "      <td>a. Low</td>\n",
              "      <td>c. High</td>\n",
              "      <td>a. = 0</td>\n",
              "      <td>b. Mid</td>\n",
              "      <td>a. 0-8</td>\n",
              "      <td>a. Low</td>\n",
              "      <td>b. income</td>\n",
              "      <td>e. 40-55</td>\n",
              "      <td>train</td>\n",
              "      <td>0</td>\n",
              "    </tr>\n",
              "    <tr>\n",
              "      <th>4</th>\n",
              "      <td>b. 31-40</td>\n",
              "      <td>e. High</td>\n",
              "      <td>c. High</td>\n",
              "      <td>a. = 0</td>\n",
              "      <td>a. Low</td>\n",
              "      <td>c. 13</td>\n",
              "      <td>c. Bachelors</td>\n",
              "      <td>b. income</td>\n",
              "      <td>b. 26-30 &amp; 71-100</td>\n",
              "      <td>train</td>\n",
              "      <td>0</td>\n",
              "    </tr>\n",
              "  </tbody>\n",
              "</table>\n",
              "</div>"
            ],
            "text/plain": [
              "  hours_per_week_bin occupation_bin  msr_bin  ...            age_bin   flag  y\n",
              "0           b. 31-40   b. Mid - Low   b. Mid  ...   d. 36-40 & 56-60  train  0\n",
              "1            a. 0-30        e. High  c. High  ...           e. 40-55  train  0\n",
              "2           b. 31-40         a. Low   b. Mid  ...   d. 36-40 & 56-60  train  0\n",
              "3           b. 31-40         a. Low  c. High  ...           e. 40-55  train  0\n",
              "4           b. 31-40        e. High  c. High  ...  b. 26-30 & 71-100  train  0\n",
              "\n",
              "[5 rows x 11 columns]"
            ]
          },
          "metadata": {
            "tags": []
          },
          "execution_count": 184
        }
      ]
    },
    {
      "cell_type": "code",
      "metadata": {
        "colab": {
          "base_uri": "https://localhost:8080/",
          "height": 297
        },
        "id": "dyThOMDoMWoT",
        "outputId": "545eef4c-b81e-45da-ff5b-353afe044e12"
      },
      "source": [
        "# Examining column 'y'\n",
        "cens.describe()"
      ],
      "execution_count": 185,
      "outputs": [
        {
          "output_type": "execute_result",
          "data": {
            "text/html": [
              "<div>\n",
              "<style scoped>\n",
              "    .dataframe tbody tr th:only-of-type {\n",
              "        vertical-align: middle;\n",
              "    }\n",
              "\n",
              "    .dataframe tbody tr th {\n",
              "        vertical-align: top;\n",
              "    }\n",
              "\n",
              "    .dataframe thead th {\n",
              "        text-align: right;\n",
              "    }\n",
              "</style>\n",
              "<table border=\"1\" class=\"dataframe\">\n",
              "  <thead>\n",
              "    <tr style=\"text-align: right;\">\n",
              "      <th></th>\n",
              "      <th>y</th>\n",
              "    </tr>\n",
              "  </thead>\n",
              "  <tbody>\n",
              "    <tr>\n",
              "      <th>count</th>\n",
              "      <td>48842.000000</td>\n",
              "    </tr>\n",
              "    <tr>\n",
              "      <th>mean</th>\n",
              "      <td>0.239282</td>\n",
              "    </tr>\n",
              "    <tr>\n",
              "      <th>std</th>\n",
              "      <td>0.426649</td>\n",
              "    </tr>\n",
              "    <tr>\n",
              "      <th>min</th>\n",
              "      <td>0.000000</td>\n",
              "    </tr>\n",
              "    <tr>\n",
              "      <th>25%</th>\n",
              "      <td>0.000000</td>\n",
              "    </tr>\n",
              "    <tr>\n",
              "      <th>50%</th>\n",
              "      <td>0.000000</td>\n",
              "    </tr>\n",
              "    <tr>\n",
              "      <th>75%</th>\n",
              "      <td>0.000000</td>\n",
              "    </tr>\n",
              "    <tr>\n",
              "      <th>max</th>\n",
              "      <td>1.000000</td>\n",
              "    </tr>\n",
              "  </tbody>\n",
              "</table>\n",
              "</div>"
            ],
            "text/plain": [
              "                  y\n",
              "count  48842.000000\n",
              "mean       0.239282\n",
              "std        0.426649\n",
              "min        0.000000\n",
              "25%        0.000000\n",
              "50%        0.000000\n",
              "75%        0.000000\n",
              "max        1.000000"
            ]
          },
          "metadata": {
            "tags": []
          },
          "execution_count": 185
        }
      ]
    },
    {
      "cell_type": "code",
      "metadata": {
        "colab": {
          "base_uri": "https://localhost:8080/"
        },
        "id": "yRzQLQX5MWC-",
        "outputId": "993845a7-0b8f-4cac-b53c-59f8078be922"
      },
      "source": [
        "# Count of na values\n",
        "cens.isna().sum()"
      ],
      "execution_count": 186,
      "outputs": [
        {
          "output_type": "execute_result",
          "data": {
            "text/plain": [
              "hours_per_week_bin    0\n",
              "occupation_bin        0\n",
              "msr_bin               0\n",
              "capital_gl_bin        0\n",
              "race_sex_bin          0\n",
              "education_num_bin     0\n",
              "education_bin         0\n",
              "workclass_bin         0\n",
              "age_bin               0\n",
              "flag                  0\n",
              "y                     0\n",
              "dtype: int64"
            ]
          },
          "metadata": {
            "tags": []
          },
          "execution_count": 186
        }
      ]
    },
    {
      "cell_type": "code",
      "metadata": {
        "colab": {
          "base_uri": "https://localhost:8080/"
        },
        "id": "vTHi-FoQMWQh",
        "outputId": "481c0dc2-0dca-4d49-b609-e10e365191ba"
      },
      "source": [
        "# Checking data types\n",
        "cens.info()"
      ],
      "execution_count": 187,
      "outputs": [
        {
          "output_type": "stream",
          "text": [
            "<class 'pandas.core.frame.DataFrame'>\n",
            "RangeIndex: 48842 entries, 0 to 48841\n",
            "Data columns (total 11 columns):\n",
            " #   Column              Non-Null Count  Dtype \n",
            "---  ------              --------------  ----- \n",
            " 0   hours_per_week_bin  48842 non-null  object\n",
            " 1   occupation_bin      48842 non-null  object\n",
            " 2   msr_bin             48842 non-null  object\n",
            " 3   capital_gl_bin      48842 non-null  object\n",
            " 4   race_sex_bin        48842 non-null  object\n",
            " 5   education_num_bin   48842 non-null  object\n",
            " 6   education_bin       48842 non-null  object\n",
            " 7   workclass_bin       48842 non-null  object\n",
            " 8   age_bin             48842 non-null  object\n",
            " 9   flag                48842 non-null  object\n",
            " 10  y                   48842 non-null  int64 \n",
            "dtypes: int64(1), object(10)\n",
            "memory usage: 4.1+ MB\n"
          ],
          "name": "stdout"
        }
      ]
    },
    {
      "cell_type": "code",
      "metadata": {
        "colab": {
          "base_uri": "https://localhost:8080/"
        },
        "id": "ESNs9545MWce",
        "outputId": "36101cf6-7b6e-4997-e02a-7ec4cab3b968"
      },
      "source": [
        "# Counting Duplicates\n",
        "cens.duplicated().sum()"
      ],
      "execution_count": 188,
      "outputs": [
        {
          "output_type": "execute_result",
          "data": {
            "text/plain": [
              "40012"
            ]
          },
          "metadata": {
            "tags": []
          },
          "execution_count": 188
        }
      ]
    },
    {
      "cell_type": "markdown",
      "metadata": {
        "id": "b3mdIguF40KU"
      },
      "source": [
        "## Descriptive Stats by Column"
      ]
    },
    {
      "cell_type": "code",
      "metadata": {
        "colab": {
          "base_uri": "https://localhost:8080/"
        },
        "id": "283oBtjV4ZbR",
        "outputId": "abe27817-9178-4d28-c974-87251e4306b3"
      },
      "source": [
        "# Hours per Week Stats\n",
        "print('Value Counts')\n",
        "print(cens.hours_per_week_bin.sort_index().value_counts())\n",
        "print()\n",
        "print('Mode:',cens.hours_per_week_bin.mode())\n",
        "print()\n",
        "print('MIN:',cens.hours_per_week_bin.min())\n",
        "print('MAX:',cens.hours_per_week_bin.max())"
      ],
      "execution_count": 189,
      "outputs": [
        {
          "output_type": "stream",
          "text": [
            "Value Counts\n",
            "b. 31-40            26639\n",
            "d. 41-50 & 61-70     9819\n",
            "a. 0-30              7851\n",
            "e. 51-60             3759\n",
            "c. 71-100             774\n",
            "Name: hours_per_week_bin, dtype: int64\n",
            "\n",
            "Mode: 0    b. 31-40\n",
            "dtype: object\n",
            "\n",
            "MIN: a. 0-30\n",
            "MAX: e. 51-60\n"
          ],
          "name": "stdout"
        }
      ]
    },
    {
      "cell_type": "code",
      "metadata": {
        "id": "b65arM5vE_yZ",
        "colab": {
          "base_uri": "https://localhost:8080/"
        },
        "outputId": "c645ab56-9b8a-49c5-d229-1bf2e34a8fcf"
      },
      "source": [
        "# Occupation Column Stats\n",
        "print('Value Counts')\n",
        "print(cens.occupation_bin.sort_index().value_counts())\n",
        "print()\n",
        "print('Mode:',cens.occupation_bin.mode())\n",
        "print()\n",
        "print('MIN:',cens.occupation_bin.min())\n",
        "print('MAX:',cens.occupation_bin.max())"
      ],
      "execution_count": 190,
      "outputs": [
        {
          "output_type": "stream",
          "text": [
            "Value Counts\n",
            "c. Mid - Mid     13971\n",
            "b. Mid - Low     12947\n",
            "e. High          12258\n",
            "a. Low            7237\n",
            "d. Mid - High     2429\n",
            "Name: occupation_bin, dtype: int64\n",
            "\n",
            "Mode: 0    c. Mid - Mid\n",
            "dtype: object\n",
            "\n",
            "MIN: a. Low\n",
            "MAX: e. High\n"
          ],
          "name": "stdout"
        }
      ]
    },
    {
      "cell_type": "code",
      "metadata": {
        "id": "651pTVFzE_2J",
        "colab": {
          "base_uri": "https://localhost:8080/"
        },
        "outputId": "aa3d8d06-edae-4552-88a0-b0df47952f43"
      },
      "source": [
        "# MSR Stats\n",
        "print('Value Counts')\n",
        "print(cens.msr_bin.sort_index().value_counts())\n",
        "print()\n",
        "print('Mode:',cens.msr_bin.mode())\n",
        "print()\n",
        "print('MIN:',cens.msr_bin.min())\n",
        "print('MAX:',cens.msr_bin.max())"
      ],
      "execution_count": 191,
      "outputs": [
        {
          "output_type": "stream",
          "text": [
            "Value Counts\n",
            "c. High    22047\n",
            "b. Mid     15868\n",
            "a. Low     10927\n",
            "Name: msr_bin, dtype: int64\n",
            "\n",
            "Mode: 0    c. High\n",
            "dtype: object\n",
            "\n",
            "MIN: a. Low\n",
            "MAX: c. High\n"
          ],
          "name": "stdout"
        }
      ]
    },
    {
      "cell_type": "code",
      "metadata": {
        "id": "nnJLh3JZE_55",
        "colab": {
          "base_uri": "https://localhost:8080/"
        },
        "outputId": "27a6c04c-8bcb-4f9a-c46c-fcf9e9dca02f"
      },
      "source": [
        "# capital_gl_binStats\n",
        "print('Value Counts')\n",
        "print(cens.capital_gl_bin.sort_index().value_counts())\n",
        "print()\n",
        "print('Mode:',cens.capital_gl_bin.mode())\n",
        "print()\n",
        "print('MIN:',cens.capital_gl_bin.min())\n",
        "print('MAX:', cens.capital_gl_bin.max())"
      ],
      "execution_count": 192,
      "outputs": [
        {
          "output_type": "stream",
          "text": [
            "Value Counts\n",
            "a. = 0    42525\n",
            "c. > 0     4035\n",
            "b. < 0     2282\n",
            "Name: capital_gl_bin, dtype: int64\n",
            "\n",
            "Mode: 0    a. = 0\n",
            "dtype: object\n",
            "\n",
            "MIN: a. = 0\n",
            "MAX: c. > 0\n"
          ],
          "name": "stdout"
        }
      ]
    },
    {
      "cell_type": "code",
      "metadata": {
        "colab": {
          "base_uri": "https://localhost:8080/"
        },
        "id": "SzwajoVZa21H",
        "outputId": "b26e267e-8889-4e9c-b501-1a40fa639c4c"
      },
      "source": [
        "# race_sex_bin Stats\n",
        "print('Value Counts')\n",
        "print(cens.race_sex_bin.sort_index().value_counts())\n",
        "print()\n",
        "print('Mode:',cens.race_sex_bin.mode())\n",
        "print()\n",
        "print('MIN:',cens.race_sex_bin.min())\n",
        "print('MAX:',cens.race_sex_bin.max())"
      ],
      "execution_count": 193,
      "outputs": [
        {
          "output_type": "stream",
          "text": [
            "Value Counts\n",
            "c. High    29737\n",
            "b. Mid     16457\n",
            "a. Low      2648\n",
            "Name: race_sex_bin, dtype: int64\n",
            "\n",
            "Mode: 0    c. High\n",
            "dtype: object\n",
            "\n",
            "MIN: a. Low\n",
            "MAX: c. High\n"
          ],
          "name": "stdout"
        }
      ]
    },
    {
      "cell_type": "code",
      "metadata": {
        "colab": {
          "base_uri": "https://localhost:8080/"
        },
        "id": "-V0tbVlua26g",
        "outputId": "0bfcb01b-8048-4dd8-f729-23a6c0a6ed7b"
      },
      "source": [
        "# education_bin Stats\n",
        "print('Value Counts')\n",
        "print(cens.education_bin.sort_index().value_counts())\n",
        "print()\n",
        "print('Mode:',cens.education_bin.mode())\n",
        "print()\n",
        "print('MIN:',cens.education_bin.min())\n",
        "print('MAX:',cens.education_bin.max())"
      ],
      "execution_count": 194,
      "outputs": [
        {
          "output_type": "stream",
          "text": [
            "Value Counts\n",
            "b. Mid          30324\n",
            "c. Bachelors     8025\n",
            "a. Low           6408\n",
            "d. Masters       2657\n",
            "e. High          1428\n",
            "Name: education_bin, dtype: int64\n",
            "\n",
            "Mode: 0    b. Mid\n",
            "dtype: object\n",
            "\n",
            "MIN: a. Low\n",
            "MAX: e. High\n"
          ],
          "name": "stdout"
        }
      ]
    },
    {
      "cell_type": "code",
      "metadata": {
        "colab": {
          "base_uri": "https://localhost:8080/"
        },
        "id": "ZnnTvPVwa2_3",
        "outputId": "acc7efb1-d7ba-4d75-d07d-c14421e72b53"
      },
      "source": [
        "# age_bin Stats\n",
        "print('Value Counts')\n",
        "print(cens.age_bin.sort_index().value_counts())\n",
        "print()\n",
        "print('Mode:',cens.age_bin.mode())\n",
        "print()\n",
        "print('MIN:',cens.age_bin.min())\n",
        "print('MAX:', cens.age_bin.max())"
      ],
      "execution_count": 195,
      "outputs": [
        {
          "output_type": "stream",
          "text": [
            "Value Counts\n",
            "e. 40-55             13963\n",
            "a. 0-25               9627\n",
            "c. 31-35 & 61-70      9291\n",
            "d. 36-40 & 56-60      8927\n",
            "b. 26-30 & 71-100     7034\n",
            "Name: age_bin, dtype: int64\n",
            "\n",
            "Mode: 0    e. 40-55\n",
            "dtype: object\n",
            "\n",
            "MIN: a. 0-25\n",
            "MAX: e. 40-55\n"
          ],
          "name": "stdout"
        }
      ]
    },
    {
      "cell_type": "code",
      "metadata": {
        "colab": {
          "base_uri": "https://localhost:8080/"
        },
        "id": "3gGS4i1XNglU",
        "outputId": "fc240bd1-dc0e-4d83-ab6c-7988aaf81205"
      },
      "source": [
        "# Column 'y' Stats\n",
        "print('Value Counts')\n",
        "print(cens.y.sort_index().value_counts())\n",
        "print()\n",
        "print('Mode:',cens.y.mode())\n",
        "print()\n",
        "print('MIN:',cens.y.min())\n",
        "print('MAX:', cens.y.max())"
      ],
      "execution_count": 196,
      "outputs": [
        {
          "output_type": "stream",
          "text": [
            "Value Counts\n",
            "0    37155\n",
            "1    11687\n",
            "Name: y, dtype: int64\n",
            "\n",
            "Mode: 0    0\n",
            "dtype: int64\n",
            "\n",
            "MIN: 0\n",
            "MAX: 1\n"
          ],
          "name": "stdout"
        }
      ]
    },
    {
      "cell_type": "markdown",
      "metadata": {
        "id": "0wVOjYlibyaY"
      },
      "source": [
        "## 3. Exploratory Data Analysis"
      ]
    },
    {
      "cell_type": "code",
      "metadata": {
        "id": "sYDQ2PbTWIdz"
      },
      "source": [
        "# Isolating y_1 and y_0\n",
        "cens1 = cens[cens.y ==1]\n",
        "cens0 = cens[cens.y ==0]\n"
      ],
      "execution_count": 197,
      "outputs": []
    },
    {
      "cell_type": "code",
      "metadata": {
        "colab": {
          "base_uri": "https://localhost:8080/",
          "height": 340
        },
        "id": "InLubTmEWTjG",
        "outputId": "7b7d6bfc-546b-4347-9b02-e70093945cde"
      },
      "source": [
        "# Creating hours_per_week_bin Graph\n",
        "\n",
        "# Using Counter to count the number in each bin. Storing the result in a dictionary\n",
        "hours_dict_0 = dict(Counter(cens0.hours_per_week_bin.to_list()))\n",
        "hours_dict_1 = dict(Counter(cens1.hours_per_week_bin.to_list()))\n",
        "  # Creating a Dataframe from the dictionary\n",
        "hours_week = pd.DataFrame({\"0\":pd.Series(hours_dict_0),\"1\":pd.Series(hours_dict_1)})\n",
        "hours_week\n",
        " \n",
        "hours_week[\"Total\"] = hours_week[\"0\"] + hours_week[\"1\"]\n",
        "hours_week[\"y_0\"] = hours_week[\"0\"] / hours_week[\"Total\"]*100\n",
        "hours_week[\"y_1\"] = hours_week[\"1\"] / hours_week[\"Total\"]*100\n",
        "\n",
        "# Plotting Graph\n",
        "hours_graph = hours_week[['y_0','y_1']]\n",
        "hours_graph.plot(kind = 'bar', stacked = True, width = 0.6)\n",
        "plt.show()\n"
      ],
      "execution_count": 198,
      "outputs": [
        {
          "output_type": "display_data",
          "data": {
            "image/png": "[encoded data removed]",
            "text/plain": [
              "<Figure size 432x288 with 1 Axes>"
            ]
          },
          "metadata": {
            "tags": [],
            "needs_background": "light"
          }
        }
      ]
    },
    {
      "cell_type": "code",
      "metadata": {
        "colab": {
          "base_uri": "https://localhost:8080/",
          "height": 319
        },
        "id": "nsg-hh48WTr-",
        "outputId": "42b0827f-36d0-4d4b-fa25-9b672aa42c61"
      },
      "source": [
        "# Creating occuptation_bin Graph\n",
        "\n",
        "# Using Counter to count the number in each bin. Storing the result in a dictionary\n",
        "occupation_0 = dict(Counter(cens0.occupation_bin.to_list()))\n",
        "occupation_1 = dict(Counter(cens1.occupation_bin.to_list()))\n",
        "  # Creating a Dataframe from the dictionary\n",
        "occupation_df = pd.DataFrame({\"0\":pd.Series(occupation_0),\"1\":pd.Series(occupation_1)})\n",
        "occupation_df\n",
        " \n",
        "occupation_df[\"Total\"] = occupation_df[\"0\"] + occupation_df[\"1\"]\n",
        "occupation_df[\"y_0\"] = occupation_df[\"0\"] / occupation_df[\"Total\"]*100\n",
        "occupation_df[\"y_1\"] = occupation_df[\"1\"] / occupation_df[\"Total\"]*100\n",
        "\n",
        "# Plotting Graph\n",
        "occupation_graph = occupation_df[['y_0','y_1']]\n",
        "occupation_graph.plot(kind = 'bar', stacked = True, width = 0.6)\n",
        "plt.show()\n"
      ],
      "execution_count": 199,
      "outputs": [
        {
          "output_type": "display_data",
          "data": {
            "image/png": "[encoded data removed]",
            "text/plain": [
              "<Figure size 432x288 with 1 Axes>"
            ]
          },
          "metadata": {
            "tags": [],
            "needs_background": "light"
          }
        }
      ]
    },
    {
      "cell_type": "code",
      "metadata": {
        "colab": {
          "base_uri": "https://localhost:8080/",
          "height": 290
        },
        "id": "KCoygmJlWT1M",
        "outputId": "54c401c6-c2c4-4021-8edc-07c1f4185de1"
      },
      "source": [
        "# Creating msr_bin Graph\n",
        "\n",
        "# Using Counter to count the number in each bin. Storing the result in a dictionary\n",
        "msr_0 = dict(Counter(cens0.msr_bin.to_list()))\n",
        "msr_1 = dict(Counter(cens1.msr_bin.to_list()))\n",
        "  # Creating a Dataframe from the dictionary\n",
        "msr_df = pd.DataFrame({\"0\":pd.Series(msr_0),\"1\":pd.Series(msr_1)})\n",
        "\n",
        " \n",
        "msr_df[\"Total\"] = msr_df[\"0\"] + msr_df[\"1\"]\n",
        "msr_df[\"y_0\"] = msr_df[\"0\"] / msr_df[\"Total\"]*100\n",
        "msr_df[\"y_1\"] = msr_df[\"1\"] / msr_df[\"Total\"]*100\n",
        "\n",
        "# Plotting Graph\n",
        "msr_graph = msr_df[['y_0','y_1']]\n",
        "msr_graph.plot(kind = 'bar', stacked = True, width = 0.6)\n",
        "plt.show()\n"
      ],
      "execution_count": 200,
      "outputs": [
        {
          "output_type": "display_data",
          "data": {
            "image/png": "[encoded data removed]",
            "text/plain": [
              "<Figure size 432x288 with 1 Axes>"
            ]
          },
          "metadata": {
            "tags": [],
            "needs_background": "light"
          }
        }
      ]
    },
    {
      "cell_type": "code",
      "metadata": {
        "colab": {
          "base_uri": "https://localhost:8080/",
          "height": 286
        },
        "id": "B_pvr5tNaKgn",
        "outputId": "4522379f-403d-4cc2-c899-7a899416f5bb"
      },
      "source": [
        "# Creating capital_gains Graph\n",
        "\n",
        "# Using Counter to count the number in each bin. Storing the result in a dictionary\n",
        "capitalgl_0 = dict(Counter(cens0.capital_gl_bin.to_list()))\n",
        "capitalgl_1 = dict(Counter(cens1.capital_gl_bin.to_list()))\n",
        "  # Creating a Dataframe from the dictionary\n",
        "capitalgl_df = pd.DataFrame({\"0\":pd.Series(capitalgl_0),\"1\":pd.Series(capitalgl_1)})\n",
        "\n",
        " \n",
        "capitalgl_df[\"Total\"] = capitalgl_df[\"0\"] + capitalgl_df[\"1\"]\n",
        "capitalgl_df[\"y_0\"] = capitalgl_df[\"0\"] / capitalgl_df[\"Total\"]*100\n",
        "capitalgl_df[\"y_1\"] = capitalgl_df[\"1\"] / capitalgl_df[\"Total\"]*100\n",
        "\n",
        "# Plotting Graph\n",
        "capitalgl_graph = capitalgl_df[['y_0','y_1']]\n",
        "capitalgl_graph.plot(kind = 'bar', stacked = True, width = 0.6)\n",
        "plt.show()"
      ],
      "execution_count": 201,
      "outputs": [
        {
          "output_type": "display_data",
          "data": {
            "image/png": "[encoded data removed]",
            "text/plain": [
              "<Figure size 432x288 with 1 Axes>"
            ]
          },
          "metadata": {
            "tags": [],
            "needs_background": "light"
          }
        }
      ]
    },
    {
      "cell_type": "code",
      "metadata": {
        "colab": {
          "base_uri": "https://localhost:8080/",
          "height": 346
        },
        "id": "NF9RpLlOaKrt",
        "outputId": "35aaeb28-cd8b-4acc-8fcf-2bac74c5daaa"
      },
      "source": [
        "# Creating Age Graph\n",
        "\n",
        "# Using Counter to count the number in each bin. Storing the result in a dictionary\n",
        "age_0 = dict(Counter(cens0.age_bin.to_list()))\n",
        "age_1 = dict(Counter(cens1.age_bin.to_list()))\n",
        "  # Creating a Dataframe from the dictionary\n",
        "age_df = pd.DataFrame({\"0\":pd.Series(age_0),\"1\":pd.Series(age_1)})\n",
        "\n",
        " \n",
        "age_df[\"Total\"] = age_df[\"0\"] + age_df[\"1\"]\n",
        "age_df[\"y_0\"] = age_df[\"0\"] / age_df[\"Total\"]*100\n",
        "age_df[\"y_1\"] = age_df[\"1\"] / age_df[\"Total\"]*100\n",
        "\n",
        "# Plotting Graph\n",
        "age_graph = age_df[['y_0','y_1']]\n",
        "age_graph.plot(kind = 'bar', stacked = True, width = 0.6)\n",
        "plt.show()"
      ],
      "execution_count": 202,
      "outputs": [
        {
          "output_type": "display_data",
          "data": {
            "image/png": "[encoded data removed]",
            "text/plain": [
              "<Figure size 432x288 with 1 Axes>"
            ]
          },
          "metadata": {
            "tags": [],
            "needs_background": "light"
          }
        }
      ]
    },
    {
      "cell_type": "code",
      "metadata": {
        "colab": {
          "base_uri": "https://localhost:8080/",
          "height": 346
        },
        "id": "dbkEZUmHaK0t",
        "outputId": "0fdd5559-cced-460d-a93c-030bedc3283c"
      },
      "source": [
        "# Creating Education Graph\n",
        "\n",
        "# Using Counter to count the number in each bin. Storing the result in a dictionary\n",
        "education_0 = dict(Counter(cens0.education_bin.to_list()))\n",
        "education_1 = dict(Counter(cens1.education_bin.to_list()))\n",
        "  # Creating a Dataframe from the dictionary\n",
        "education_df = pd.DataFrame({\"0\":pd.Series(age_0),\"1\":pd.Series(age_1)})\n",
        "\n",
        " \n",
        "education_df[\"Total\"] = education_df[\"0\"] + education_df[\"1\"]\n",
        "education_df[\"y_0\"] = education_df[\"0\"] / education_df[\"Total\"]*100\n",
        "education_df[\"y_1\"] = education_df[\"1\"] / education_df[\"Total\"]*100\n",
        "\n",
        "# Plotting Graph\n",
        "education_graph = education_df[['y_0','y_1']]\n",
        "education_graph.plot(kind = 'bar', stacked = True, width = 0.6)\n",
        "plt.show()"
      ],
      "execution_count": 203,
      "outputs": [
        {
          "output_type": "display_data",
          "data": {
            "image/png": "[encoded data removed]",
            "text/plain": [
              "<Figure size 432x288 with 1 Axes>"
            ]
          },
          "metadata": {
            "tags": [],
            "needs_background": "light"
          }
        }
      ]
    },
    {
      "cell_type": "code",
      "metadata": {
        "colab": {
          "base_uri": "https://localhost:8080/",
          "height": 290
        },
        "id": "EieBQnB3bV1S",
        "outputId": "03a759de-3cfc-47ee-9166-a699ed8c619f"
      },
      "source": [
        "# Creating race_sex Graph\n",
        "\n",
        "# Using Counter to count the number in each bin. Storing the result in a dictionary\n",
        "race_sex_0 = dict(Counter(cens0.race_sex_bin.to_list()))\n",
        "race_sex_1 = dict(Counter(cens1.race_sex_bin.to_list()))\n",
        "  # Creating a Dataframe from the dictionary\n",
        "race_sex_df = pd.DataFrame({\"0\":pd.Series(race_sex_0),\"1\":pd.Series(race_sex_1)})\n",
        "\n",
        " \n",
        "race_sex_df[\"Total\"] = race_sex_df[\"0\"] + race_sex_df[\"1\"]\n",
        "race_sex_df[\"y_0\"] = race_sex_df[\"0\"] / race_sex_df[\"Total\"]*100\n",
        "race_sex_df[\"y_1\"] = race_sex_df[\"1\"] / race_sex_df[\"Total\"]*100\n",
        "\n",
        "# Plotting Graph\n",
        "race_sex_graph = race_sex_df[['y_0','y_1']]\n",
        "race_sex_graph.plot(kind = 'bar', stacked = True, width = 0.6)\n",
        "plt.show()"
      ],
      "execution_count": 204,
      "outputs": [
        {
          "output_type": "display_data",
          "data": {
            "image/png": "[encoded data removed]",
            "text/plain": [
              "<Figure size 432x288 with 1 Axes>"
            ]
          },
          "metadata": {
            "tags": [],
            "needs_background": "light"
          }
        }
      ]
    },
    {
      "cell_type": "code",
      "metadata": {
        "id": "H81W149breGn"
      },
      "source": [
        ""
      ],
      "execution_count": 204,
      "outputs": []
    },
    {
      "cell_type": "markdown",
      "metadata": {
        "id": "tbGei-6kFVof"
      },
      "source": [
        "## 4. Build a Decision Tree Clasifier Model\n",
        "\n",
        "\n",
        "\n"
      ]
    },
    {
      "cell_type": "code",
      "metadata": {
        "id": "OY-lGngmtnzC"
      },
      "source": [
        "# Understand how many unique groups there are in each column:\n",
        "\n",
        "# Hours per week:           5 splits\n",
        "# occupation:               5 splits\n",
        "# msr:                      3 splits\n",
        "# Capital gain or loss:     3 splits\n",
        "# race/sex:                 3 splits\n",
        "# education:                5 splits\n",
        "# age:                      5 splits"
      ],
      "execution_count": 205,
      "outputs": []
    },
    {
      "cell_type": "code",
      "metadata": {
        "colab": {
          "base_uri": "https://localhost:8080/",
          "height": 419
        },
        "id": "7f-KISboOyE5",
        "outputId": "96382ce4-4b83-458a-83e2-e7c4128b0d4c"
      },
      "source": [
        "# Creating new data set with dummy variables\n",
        "cens_dummy = cens\n",
        "cens_dummy.replace(regex={r'[a]. ': 1, r'[b]. ': 2, r'[c].': 3, r'[d]. ': 4, r'[e]. ': 5}, inplace=True)\n",
        "cens_dummy"
      ],
      "execution_count": 206,
      "outputs": [
        {
          "output_type": "execute_result",
          "data": {
            "text/html": [
              "<div>\n",
              "<style scoped>\n",
              "    .dataframe tbody tr th:only-of-type {\n",
              "        vertical-align: middle;\n",
              "    }\n",
              "\n",
              "    .dataframe tbody tr th {\n",
              "        vertical-align: top;\n",
              "    }\n",
              "\n",
              "    .dataframe thead th {\n",
              "        text-align: right;\n",
              "    }\n",
              "</style>\n",
              "<table border=\"1\" class=\"dataframe\">\n",
              "  <thead>\n",
              "    <tr style=\"text-align: right;\">\n",
              "      <th></th>\n",
              "      <th>hours_per_week_bin</th>\n",
              "      <th>occupation_bin</th>\n",
              "      <th>msr_bin</th>\n",
              "      <th>capital_gl_bin</th>\n",
              "      <th>race_sex_bin</th>\n",
              "      <th>education_num_bin</th>\n",
              "      <th>education_bin</th>\n",
              "      <th>workclass_bin</th>\n",
              "      <th>age_bin</th>\n",
              "      <th>flag</th>\n",
              "      <th>y</th>\n",
              "    </tr>\n",
              "  </thead>\n",
              "  <tbody>\n",
              "    <tr>\n",
              "      <th>0</th>\n",
              "      <td>2</td>\n",
              "      <td>2</td>\n",
              "      <td>2</td>\n",
              "      <td>3</td>\n",
              "      <td>3</td>\n",
              "      <td>3</td>\n",
              "      <td>3</td>\n",
              "      <td>2</td>\n",
              "      <td>4</td>\n",
              "      <td>train</td>\n",
              "      <td>0</td>\n",
              "    </tr>\n",
              "    <tr>\n",
              "      <th>1</th>\n",
              "      <td>1</td>\n",
              "      <td>5</td>\n",
              "      <td>3</td>\n",
              "      <td>1</td>\n",
              "      <td>3</td>\n",
              "      <td>3</td>\n",
              "      <td>3</td>\n",
              "      <td>2</td>\n",
              "      <td>5</td>\n",
              "      <td>train</td>\n",
              "      <td>0</td>\n",
              "    </tr>\n",
              "    <tr>\n",
              "      <th>2</th>\n",
              "      <td>2</td>\n",
              "      <td>1</td>\n",
              "      <td>2</td>\n",
              "      <td>1</td>\n",
              "      <td>3</td>\n",
              "      <td>2</td>\n",
              "      <td>2</td>\n",
              "      <td>2</td>\n",
              "      <td>4</td>\n",
              "      <td>train</td>\n",
              "      <td>0</td>\n",
              "    </tr>\n",
              "    <tr>\n",
              "      <th>3</th>\n",
              "      <td>2</td>\n",
              "      <td>1</td>\n",
              "      <td>3</td>\n",
              "      <td>1</td>\n",
              "      <td>2</td>\n",
              "      <td>1</td>\n",
              "      <td>1</td>\n",
              "      <td>2</td>\n",
              "      <td>5</td>\n",
              "      <td>train</td>\n",
              "      <td>0</td>\n",
              "    </tr>\n",
              "    <tr>\n",
              "      <th>4</th>\n",
              "      <td>2</td>\n",
              "      <td>5</td>\n",
              "      <td>3</td>\n",
              "      <td>1</td>\n",
              "      <td>1</td>\n",
              "      <td>3</td>\n",
              "      <td>3</td>\n",
              "      <td>2</td>\n",
              "      <td>2</td>\n",
              "      <td>train</td>\n",
              "      <td>0</td>\n",
              "    </tr>\n",
              "    <tr>\n",
              "      <th>...</th>\n",
              "      <td>...</td>\n",
              "      <td>...</td>\n",
              "      <td>...</td>\n",
              "      <td>...</td>\n",
              "      <td>...</td>\n",
              "      <td>...</td>\n",
              "      <td>...</td>\n",
              "      <td>...</td>\n",
              "      <td>...</td>\n",
              "      <td>...</td>\n",
              "      <td>...</td>\n",
              "    </tr>\n",
              "    <tr>\n",
              "      <th>48837</th>\n",
              "      <td>2</td>\n",
              "      <td>5</td>\n",
              "      <td>2</td>\n",
              "      <td>1</td>\n",
              "      <td>2</td>\n",
              "      <td>3</td>\n",
              "      <td>3</td>\n",
              "      <td>2</td>\n",
              "      <td>4</td>\n",
              "      <td>test</td>\n",
              "      <td>0</td>\n",
              "    </tr>\n",
              "    <tr>\n",
              "      <th>48838</th>\n",
              "      <td>2</td>\n",
              "      <td>2</td>\n",
              "      <td>1</td>\n",
              "      <td>1</td>\n",
              "      <td>2</td>\n",
              "      <td>2</td>\n",
              "      <td>2</td>\n",
              "      <td>1</td>\n",
              "      <td>3</td>\n",
              "      <td>test</td>\n",
              "      <td>0</td>\n",
              "    </tr>\n",
              "    <tr>\n",
              "      <th>48839</th>\n",
              "      <td>4</td>\n",
              "      <td>5</td>\n",
              "      <td>3</td>\n",
              "      <td>1</td>\n",
              "      <td>3</td>\n",
              "      <td>3</td>\n",
              "      <td>3</td>\n",
              "      <td>2</td>\n",
              "      <td>4</td>\n",
              "      <td>test</td>\n",
              "      <td>0</td>\n",
              "    </tr>\n",
              "    <tr>\n",
              "      <th>48840</th>\n",
              "      <td>2</td>\n",
              "      <td>2</td>\n",
              "      <td>1</td>\n",
              "      <td>3</td>\n",
              "      <td>3</td>\n",
              "      <td>3</td>\n",
              "      <td>3</td>\n",
              "      <td>2</td>\n",
              "      <td>5</td>\n",
              "      <td>test</td>\n",
              "      <td>0</td>\n",
              "    </tr>\n",
              "    <tr>\n",
              "      <th>48841</th>\n",
              "      <td>5</td>\n",
              "      <td>5</td>\n",
              "      <td>3</td>\n",
              "      <td>1</td>\n",
              "      <td>3</td>\n",
              "      <td>3</td>\n",
              "      <td>3</td>\n",
              "      <td>2</td>\n",
              "      <td>3</td>\n",
              "      <td>test</td>\n",
              "      <td>1</td>\n",
              "    </tr>\n",
              "  </tbody>\n",
              "</table>\n",
              "<p>48842 rows × 11 columns</p>\n",
              "</div>"
            ],
            "text/plain": [
              "       hours_per_week_bin  occupation_bin  msr_bin  ...  age_bin   flag  y\n",
              "0                       2               2        2  ...        4  train  0\n",
              "1                       1               5        3  ...        5  train  0\n",
              "2                       2               1        2  ...        4  train  0\n",
              "3                       2               1        3  ...        5  train  0\n",
              "4                       2               5        3  ...        2  train  0\n",
              "...                   ...             ...      ...  ...      ...    ... ..\n",
              "48837                   2               5        2  ...        4   test  0\n",
              "48838                   2               2        1  ...        3   test  0\n",
              "48839                   4               5        3  ...        4   test  0\n",
              "48840                   2               2        1  ...        5   test  0\n",
              "48841                   5               5        3  ...        3   test  1\n",
              "\n",
              "[48842 rows x 11 columns]"
            ]
          },
          "metadata": {
            "tags": []
          },
          "execution_count": 206
        }
      ]
    },
    {
      "cell_type": "code",
      "metadata": {
        "id": "bo1My8ZQH76y"
      },
      "source": [
        "# Splitting the Data into Testa nd training sets\n",
        "  # X training data split\n",
        "x_train = cens_dummy[cens_dummy.flag=='train']\n",
        "x_train = x_train.iloc[:,0:9]\n",
        "\n",
        "  # X test data split\n",
        "x_test =  cens_dummy[cens_dummy.flag=='test']\n",
        "x_test = x_test.iloc[:,0:9]\n",
        "\n",
        "  # y test split\n",
        "y_test = cens_dummy[cens_dummy.flag=='test']\n",
        "y_test = y_test.iloc[:,10]\n",
        "\n",
        "  # y train split\n",
        "y_train = cens_dummy[cens_dummy.flag=='train']\n",
        "y_train = y_train.iloc[:,10]\n"
      ],
      "execution_count": 179,
      "outputs": []
    },
    {
      "cell_type": "code",
      "metadata": {
        "colab": {
          "base_uri": "https://localhost:8080/",
          "height": 350
        },
        "id": "d4fjkhrFRHIg",
        "outputId": "f0f15caa-ac8e-4a83-fb78-0bafeb805a79"
      },
      "source": [
        "# Creating Function to Run Model\n",
        "def descision_tree_model(criteria): # Enter 'entropy' or 'gini' to run preferred method\n",
        "  tree_model =  DecisionTreeClassifier(max_depth=8, \n",
        "                                random_state=101,\n",
        "                                max_features= None, \n",
        "                                min_samples_leaf= 2, \n",
        "                                min_samples_split=2,\n",
        "                                criterion=criteria)\n",
        "  tree_model.fit(x_test, y_test)\n",
        "  y_pred = tree_model.predict(x_test)\n",
        "  tree.plot_tree(tree_model)\n",
        "\n",
        "  # Defining evaluation metrics\n",
        "  accuracy = accuracy_score(y_test, y_pred)\n",
        "  recall = recall_score(y_test, y_pred)\n",
        "  precision = precision_score(y_test, y_pred)\n",
        "  conf_matrix =  confusion_matrix(y_pred, y_test)\n",
        "  f1_score = 2* ((precision*recall)/(precision + recall))\n",
        "  print('Accuracy:',accuracy)\n",
        "  print('Recall:', recall)\n",
        "  print('Precision:', precision)\n",
        "  print('F1 Score:', f1_score)\n",
        "  print(conf_matrix)\n",
        "  \n",
        "\n",
        "\n",
        "descision_tree_model('gini')"
      ],
      "execution_count": 178,
      "outputs": [
        {
          "output_type": "stream",
          "text": [
            "Accuracy: 0.8520975370063264\n",
            "Recall: 0.578263130525221\n",
            "Precision: 0.7388704318936877\n",
            "F1 Score: 0.6487747957992999\n",
            "[[11649  1622]\n",
            " [  786  2224]]\n"
          ],
          "name": "stdout"
        },
        {
          "output_type": "display_data",
          "data": {
            "image/png": "[encoded data removed]",
            "text/plain": [
              "<Figure size 432x288 with 1 Axes>"
            ]
          },
          "metadata": {
            "tags": [],
            "needs_background": "light"
          }
        }
      ]
    },
    {
      "cell_type": "code",
      "metadata": {
        "colab": {
          "base_uri": "https://localhost:8080/",
          "height": 37
        },
        "id": "YOA10j_LQFvc",
        "outputId": "0efa64bb-aac8-44e9-aa1a-5cdc714d0aee"
      },
      "source": [
        "# Genberating PDF of Decision Tree\n",
        "import graphviz \n",
        "dot_data = tree.export_graphviz(tree_model, out_file=None, filled=True, rounded=True) \n",
        "graph = graphviz.Source(dot_data) \n",
        "graph.render(\"census_final_tree\") "
      ],
      "execution_count": 207,
      "outputs": [
        {
          "output_type": "execute_result",
          "data": {
            "application/vnd.google.colaboratory.intrinsic+json": {
              "type": "string"
            },
            "text/plain": [
              "'census_final_tree.pdf'"
            ]
          },
          "metadata": {
            "tags": []
          },
          "execution_count": 207
        }
      ]
    },
    {
      "cell_type": "code",
      "metadata": {
        "colab": {
          "base_uri": "https://localhost:8080/"
        },
        "id": "q1dLrqFm5mxU",
        "outputId": "26d6555e-9080-4d61-cba7-c42a8b7517f2"
      },
      "source": [
        "# Creating Function for individual predition\n",
        "def individual_prediciton(hours,occupation, msr, capital_gain, race_sex, eduction_num, eduction_cat, workclass, age):\n",
        " \n",
        "  df = pd.DataFrame()\n",
        "  df['hours_per_week_bin'] = [hours]\n",
        "  df['occupation_bin']  = [occupation]\n",
        "  df['msr_bin'] = [msr]\n",
        "  df['capital_gl_bin'] = [capital_gain]\n",
        "  df['race_sex_bin'] = [race_sex]\n",
        "  df['education_num_bin'] = [eduction_num]\n",
        "  df['education_bin'] = [eduction_cat]\n",
        "  df['workclass_bin'] = [workclass]\n",
        "  df['age_bin'] = [age]\n",
        "  return tree_model.predict(df)\n",
        "\n",
        "individual_prediciton(4,2,3,3,2,2,5,4,4)"
      ],
      "execution_count": 208,
      "outputs": [
        {
          "output_type": "execute_result",
          "data": {
            "text/plain": [
              "array([1])"
            ]
          },
          "metadata": {
            "tags": []
          },
          "execution_count": 208
        }
      ]
    }
  ]
}